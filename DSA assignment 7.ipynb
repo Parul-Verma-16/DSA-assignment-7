{
 "cells": [
  {
   "cell_type": "markdown",
   "id": "ea85f9b9",
   "metadata": {},
   "source": [
    "## **Q1.** Given two strings s and t, *determine if they are isomorphic*. Two strings s and t are isomorphic if the characters in s can be replaced to get t. All occurrences of a character must be replaced with another character while preserving the order of characters. No two characters may map to the same character, but a character may map to itself."
   ]
  },
  {
   "cell_type": "code",
   "execution_count": 1,
   "id": "50e5de27",
   "metadata": {},
   "outputs": [
    {
     "name": "stdout",
     "output_type": "stream",
     "text": [
      "True\n",
      "False\n",
      "True\n"
     ]
    }
   ],
   "source": [
    "def is_isomorphic(s, t):\n",
    "    if len(s) != len(t):\n",
    "        return False\n",
    "    \n",
    "    # Create two dictionaries to store character mappings\n",
    "    mapping_s = {}\n",
    "    mapping_t = {}\n",
    "    \n",
    "    for i in range(len(s)):\n",
    "        char_s = s[i]\n",
    "        char_t = t[i]\n",
    "        \n",
    "        # Check if the characters are already mapped\n",
    "        if char_s in mapping_s:\n",
    "            if mapping_s[char_s] != char_t:\n",
    "                return False\n",
    "        else:\n",
    "            # Add the character mapping\n",
    "            mapping_s[char_s] = char_t\n",
    "        \n",
    "        # Check if the characters are already mapped\n",
    "        if char_t in mapping_t:\n",
    "            if mapping_t[char_t] != char_s:\n",
    "                return False\n",
    "        else:\n",
    "            # Add the character mapping\n",
    "            mapping_t[char_t] = char_s\n",
    "    \n",
    "    return True\n",
    "\n",
    "\n",
    "# Test the function\n",
    "s = \"egg\"\n",
    "t = \"add\"\n",
    "print(is_isomorphic(s, t))  # Output: True\n",
    "\n",
    "s = \"foo\"\n",
    "t = \"bar\"\n",
    "print(is_isomorphic(s, t))  # Output: False\n",
    "\n",
    "s = \"paper\"\n",
    "t = \"title\"\n",
    "print(is_isomorphic(s, t))  # Output: True"
   ]
  },
  {
   "cell_type": "markdown",
   "id": "888dd5e3",
   "metadata": {},
   "source": [
    "## **Q2.** Given a string num which represents an integer, return true *if* num *is a **strobogrammatic number***. A **strobogrammatic number** is a number that looks the same when rotated 180 degrees (looked at upside down)."
   ]
  },
  {
   "cell_type": "code",
   "execution_count": 2,
   "id": "16be7993",
   "metadata": {},
   "outputs": [
    {
     "name": "stdout",
     "output_type": "stream",
     "text": [
      "True\n",
      "True\n",
      "True\n",
      "False\n"
     ]
    }
   ],
   "source": [
    "def is_strobogrammatic(num):\n",
    "    strobogrammatic_digits = {'0': '0', '1': '1', '6': '9', '8': '8', '9': '6'}\n",
    "    \n",
    "    rotated_num = ''\n",
    "    for digit in num:\n",
    "        if digit not in strobogrammatic_digits:\n",
    "            return False\n",
    "        rotated_num = strobogrammatic_digits[digit] + rotated_num\n",
    "    \n",
    "    return rotated_num == num\n",
    "\n",
    "\n",
    "# Test the function\n",
    "num = \"69\"\n",
    "print(is_strobogrammatic(num))  # Output: True\n",
    "\n",
    "num = \"88\"\n",
    "print(is_strobogrammatic(num))  # Output: True\n",
    "\n",
    "num = \"818\"\n",
    "print(is_strobogrammatic(num))  # Output: False\n",
    "\n",
    "num = \"123\"\n",
    "print(is_strobogrammatic(num))  # Output: False"
   ]
  },
  {
   "cell_type": "markdown",
   "id": "29d4c821",
   "metadata": {},
   "source": [
    "## **Q3.** Given two non-negative integers, num1 and num2 represented as string, return *the sum of* num1 *and* num2 *as a string*. You must solve the problem without using any built-in library for handling large integers (such as BigInteger). You must also not convert the inputs to integers directly."
   ]
  },
  {
   "cell_type": "code",
   "execution_count": 3,
   "id": "58d0ad73",
   "metadata": {},
   "outputs": [
    {
     "name": "stdout",
     "output_type": "stream",
     "text": [
      "134\n",
      "1245\n",
      "0\n"
     ]
    }
   ],
   "source": [
    "def add_strings(num1, num2):\n",
    "    # Initialize pointers to the last digits of the input strings\n",
    "    i = len(num1) - 1\n",
    "    j = len(num2) - 1\n",
    "    \n",
    "    # Initialize the carryover to 0\n",
    "    carry = 0\n",
    "    \n",
    "    # Initialize the result string\n",
    "    result = \"\"\n",
    "    \n",
    "    # Perform the addition digit by digit\n",
    "    while i >= 0 or j >= 0 or carry > 0:\n",
    "        # Get the digits at the current positions, or 0 if already reached the beginning of a string\n",
    "        digit1 = int(num1[i]) if i >= 0 else 0\n",
    "        digit2 = int(num2[j]) if j >= 0 else 0\n",
    "        \n",
    "        # Calculate the sum of the digits and the carryover\n",
    "        digit_sum = digit1 + digit2 + carry\n",
    "        carry = digit_sum // 10\n",
    "        digit_sum %= 10\n",
    "        \n",
    "        # Prepend the sum digit to the result string\n",
    "        result = str(digit_sum) + result\n",
    "        \n",
    "        # Move the pointers to the previous digits\n",
    "        i -= 1\n",
    "        j -= 1\n",
    "    \n",
    "    return result\n",
    "\n",
    "\n",
    "# Test the function\n",
    "num1 = \"11\"\n",
    "num2 = \"123\"\n",
    "print(add_strings(num1, num2))  # Output: \"134\"\n",
    "\n",
    "num1 = \"456\"\n",
    "num2 = \"789\"\n",
    "print(add_strings(num1, num2))  # Output: \"1245\"\n",
    "\n",
    "num1 = \"0\"\n",
    "num2 = \"0\"\n",
    "print(add_strings(num1, num2))  # Output: \"0\""
   ]
  },
  {
   "cell_type": "markdown",
   "id": "40e7d975",
   "metadata": {},
   "source": [
    "## **Q4.** Given a string s, reverse the order of characters in each word within a sentence while still preserving whitespace and initial word order."
   ]
  },
  {
   "cell_type": "code",
   "execution_count": 4,
   "id": "28df3873",
   "metadata": {},
   "outputs": [
    {
     "name": "stdout",
     "output_type": "stream",
     "text": [
      "s'teL ekat edoCteeL tsetnoc\n"
     ]
    }
   ],
   "source": [
    "def reverse_words(s):\n",
    "    # Split the sentence into individual words\n",
    "    words = s.split()\n",
    "    \n",
    "    # Reverse each word\n",
    "    reversed_words = [word[::-1] for word in words]\n",
    "    \n",
    "    # Join the reversed words back together with whitespace\n",
    "    reversed_sentence = \" \".join(reversed_words)\n",
    "    \n",
    "    return reversed_sentence\n",
    "\n",
    "\n",
    "# Test the function\n",
    "s = \"Let's take LeetCode contest\"\n",
    "print(reverse_words(s))  # Output: \"s'teL ekat edoCteeL tsetnoc\""
   ]
  },
  {
   "cell_type": "markdown",
   "id": "c3a3ab0d",
   "metadata": {},
   "source": [
    "## **Q5.** Given a string s and an integer k, reverse the first k characters for every 2k characters counting from the start of the string. If there are fewer than k characters left, reverse all of them. If there are less than 2k but greater than or equal to k characters, then reverse the first k characters and leave the other as original."
   ]
  },
  {
   "cell_type": "code",
   "execution_count": 5,
   "id": "ee79f851",
   "metadata": {},
   "outputs": [
    {
     "name": "stdout",
     "output_type": "stream",
     "text": [
      "bacdfeg\n"
     ]
    }
   ],
   "source": [
    "def reverse_str(s, k):\n",
    "    # Convert the string to a list since strings in Python are immutable\n",
    "    s = list(s)\n",
    "    \n",
    "    # Iterate over the string in steps of 2k\n",
    "    for i in range(0, len(s), 2 * k):\n",
    "        # Reverse the first k characters\n",
    "        s[i:i+k] = s[i:i+k][::-1]\n",
    "    \n",
    "    # Convert the list back to a string\n",
    "    reversed_str = \"\".join(s)\n",
    "    \n",
    "    return reversed_str\n",
    "\n",
    "\n",
    "# Test the function\n",
    "s = \"abcdefg\"\n",
    "k = 2\n",
    "print(reverse_str(s, k))  # Output: \"bacdfeg\""
   ]
  },
  {
   "cell_type": "markdown",
   "id": "1c6a6f46",
   "metadata": {},
   "source": [
    "## **Q6.** Given two strings s and goal, return true *if and only if* s *can become* goal *after some number of **shifts** on* s. A **shift** on s consists of moving the leftmost character of s to the rightmost position.\n",
    "\n",
    "## - For example, if s = \"abcde\", then it will be \"bcdea\" after one shift."
   ]
  },
  {
   "cell_type": "code",
   "execution_count": 6,
   "id": "e5fc24ff",
   "metadata": {},
   "outputs": [
    {
     "name": "stdout",
     "output_type": "stream",
     "text": [
      "True\n"
     ]
    }
   ],
   "source": [
    "def rotate_string(s, goal):\n",
    "    # Check if the length of s and goal are equal\n",
    "    if len(s) != len(goal):\n",
    "        return False\n",
    "    \n",
    "    # Concatenate s with itself\n",
    "    rotated = s + s\n",
    "    \n",
    "    # Check if goal is a substring of rotated\n",
    "    if goal in rotated:\n",
    "        return True\n",
    "    else:\n",
    "        return False\n",
    "\n",
    "\n",
    "# Test the function\n",
    "s = \"abcde\"\n",
    "goal = \"cdeab\"\n",
    "print(rotate_string(s, goal))  # Output: True"
   ]
  },
  {
   "cell_type": "markdown",
   "id": "ca4cf70a",
   "metadata": {},
   "source": [
    "##  **Q7.** Given two strings s and t, return true *if they are equal when both are typed into empty text editors*. '#' means a backspace character. Note that after backspacing an empty text, the text will continue empty."
   ]
  },
  {
   "cell_type": "code",
   "execution_count": 7,
   "id": "0a5f96f1",
   "metadata": {},
   "outputs": [
    {
     "name": "stdout",
     "output_type": "stream",
     "text": [
      "True\n"
     ]
    }
   ],
   "source": [
    "def backspace_compare(s, t):\n",
    "    def process_string(string):\n",
    "        stack = []\n",
    "        for char in string:\n",
    "            if char != '#':\n",
    "                stack.append(char)\n",
    "            elif stack:\n",
    "                stack.pop()\n",
    "        return stack\n",
    "\n",
    "    return process_string(s) == process_string(t)\n",
    "\n",
    "\n",
    "# Test the function\n",
    "s = \"ab#c\"\n",
    "t = \"ad#c\"\n",
    "print(backspace_compare(s, t))  # Output: True"
   ]
  },
  {
   "cell_type": "markdown",
   "id": "3d806969",
   "metadata": {},
   "source": [
    "##  **Q8.** You are given an array coordinates, coordinates[i] = [x, y], where [x, y] represents the coordinate of a point. Check if these points make a straight line in the XY plane.\n",
    "\n",
    "## **Input:** coordinates = [[1,2],[2,3],[3,4],[4,5],[5,6],[6,7]]\n",
    "\n",
    "## **Output:** true"
   ]
  },
  {
   "cell_type": "code",
   "execution_count": 8,
   "id": "ffba6979",
   "metadata": {},
   "outputs": [
    {
     "name": "stdout",
     "output_type": "stream",
     "text": [
      "True\n"
     ]
    }
   ],
   "source": [
    "def check_straight_line(coordinates):\n",
    "    x1, y1 = coordinates[0]\n",
    "    x2, y2 = coordinates[1]\n",
    "    for i in range(2, len(coordinates)):\n",
    "        x, y = coordinates[i]\n",
    "        if (y2 - y1) * (x - x1) != (y - y1) * (x2 - x1):\n",
    "            return False\n",
    "    return True\n",
    "\n",
    "\n",
    "# Test the function\n",
    "coordinates = [[1, 2], [2, 3], [3, 4], [4, 5], [5, 6], [6, 7]]\n",
    "print(check_straight_line(coordinates))  # Output: True"
   ]
  }
 ],
 "metadata": {
  "kernelspec": {
   "display_name": "Python 3 (ipykernel)",
   "language": "python",
   "name": "python3"
  },
  "language_info": {
   "codemirror_mode": {
    "name": "ipython",
    "version": 3
   },
   "file_extension": ".py",
   "mimetype": "text/x-python",
   "name": "python",
   "nbconvert_exporter": "python",
   "pygments_lexer": "ipython3",
   "version": "3.9.13"
  }
 },
 "nbformat": 4,
 "nbformat_minor": 5
}
